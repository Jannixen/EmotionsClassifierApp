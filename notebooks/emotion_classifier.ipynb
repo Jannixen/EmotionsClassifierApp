{
 "cells": [
  {
   "cell_type": "markdown",
   "metadata": {},
   "source": [
    "# Importy"
   ]
  },
  {
   "cell_type": "code",
   "execution_count": 1,
   "metadata": {},
   "outputs": [],
   "source": [
    "from helper_methods.helper_methods import *\n",
    "\n",
    "import os\n",
    "import shutil\n",
    "import matplotlib.pyplot as plt\n",
    "import pandas as pd\n",
    "import numpy as np\n",
    "import seaborn as sns\n",
    "import splitfolders as sf\n",
    "import pathlib\n",
    "from sklearn.metrics import *\n",
    "from statistics import mean\n",
    "from PIL import Image\n",
    "import os.path\n",
    "\n",
    "import tensorflow as tf\n",
    "from tensorflow.keras import layers\n",
    "from tensorflow.keras.optimizers import Adam,SGD,RMSprop\n",
    "from tensorflow.keras.preprocessing import image_dataset_from_directory\n",
    "from tensorflow.keras.preprocessing.image import ImageDataGenerator\n",
    "from tensorflow.keras.initializers import ones,RandomNormal,HeNormal\n",
    "from tensorflow.keras.regularizers import *\n",
    "from tensorflow import losses\n",
    "\n",
    "import tensorflow as tf \n",
    "from tensorflow.keras.models import Sequential\n",
    "from tensorflow.keras.layers import Conv2D, MaxPooling2D, BatchNormalization, Flatten, LeakyReLU, Dense, Dropout\n",
    "import matplotlib.pyplot as plt \n",
    "from tensorflow.keras.callbacks import Callback, EarlyStopping, ReduceLROnPlateau\n",
    "\n",
    "import warnings\n",
    "warnings.filterwarnings('always')"
   ]
  },
  {
   "cell_type": "markdown",
   "metadata": {},
   "source": [
    "# Zbalansowanie \n",
    "Link do zbioru: [affectnetsample](https://www.kaggle.com/mouadriali/affectnetsample)."
   ]
  },
  {
   "cell_type": "code",
   "execution_count": 2,
   "metadata": {},
   "outputs": [
    {
     "data": {
      "image/png": "[encoded data removed]",
      "text/plain": [
       "<Figure size 432x288 with 1 Axes>"
      ]
     },
     "metadata": {
      "needs_background": "light"
     },
     "output_type": "display_data"
    }
   ],
   "source": [
    "face_categories = ['anger', 'disgust', 'fear', 'happy', 'neutral', 'sad', 'surprise']\n",
    "n_categories = len(face_categories)\n",
    "face_categories_mapping = dict(zip(sorted(face_categories),range(8)))\n",
    "category_frequencies = pd.DataFrame({\n",
    "    \"face_category\" : face_categories, \n",
    "    \"frequency\" : [len(os.listdir(f\"dataset/{c}\")) for c in face_categories]\n",
    "}).sort_values(by=\"frequency\")\n",
    "sns.barplot(x=\"face_category\",y=\"frequency\",data=category_frequencies);"
   ]
  },
  {
   "cell_type": "code",
   "execution_count": 3,
   "metadata": {},
   "outputs": [
    {
     "data": {
      "text/plain": [
       "7"
      ]
     },
     "execution_count": 3,
     "metadata": {},
     "output_type": "execute_result"
    }
   ],
   "source": [
    "n_categories"
   ]
  },
  {
   "cell_type": "code",
   "execution_count": 4,
   "metadata": {},
   "outputs": [
    {
     "data": {
      "text/plain": [
       "{'anger': 0,\n",
       " 'disgust': 1,\n",
       " 'fear': 2,\n",
       " 'happy': 3,\n",
       " 'neutral': 4,\n",
       " 'sad': 5,\n",
       " 'surprise': 6}"
      ]
     },
     "execution_count": 4,
     "metadata": {},
     "output_type": "execute_result"
    }
   ],
   "source": [
    "face_categories_mapping"
   ]
  },
  {
   "cell_type": "code",
   "execution_count": 5,
   "metadata": {},
   "outputs": [
    {
     "data": {
      "text/html": [
       "<div>\n",
       "<style scoped>\n",
       "    .dataframe tbody tr th:only-of-type {\n",
       "        vertical-align: middle;\n",
       "    }\n",
       "\n",
       "    .dataframe tbody tr th {\n",
       "        vertical-align: top;\n",
       "    }\n",
       "\n",
       "    .dataframe thead th {\n",
       "        text-align: right;\n",
       "    }\n",
       "</style>\n",
       "<table border=\"1\" class=\"dataframe\">\n",
       "  <thead>\n",
       "    <tr style=\"text-align: right;\">\n",
       "      <th></th>\n",
       "      <th>face_category</th>\n",
       "      <th>frequency</th>\n",
       "    </tr>\n",
       "  </thead>\n",
       "  <tbody>\n",
       "    <tr>\n",
       "      <th>1</th>\n",
       "      <td>disgust</td>\n",
       "      <td>547</td>\n",
       "    </tr>\n",
       "    <tr>\n",
       "      <th>6</th>\n",
       "      <td>surprise</td>\n",
       "      <td>4002</td>\n",
       "    </tr>\n",
       "    <tr>\n",
       "      <th>0</th>\n",
       "      <td>anger</td>\n",
       "      <td>4953</td>\n",
       "    </tr>\n",
       "    <tr>\n",
       "      <th>2</th>\n",
       "      <td>fear</td>\n",
       "      <td>5121</td>\n",
       "    </tr>\n",
       "    <tr>\n",
       "      <th>5</th>\n",
       "      <td>sad</td>\n",
       "      <td>6077</td>\n",
       "    </tr>\n",
       "    <tr>\n",
       "      <th>4</th>\n",
       "      <td>neutral</td>\n",
       "      <td>6198</td>\n",
       "    </tr>\n",
       "    <tr>\n",
       "      <th>3</th>\n",
       "      <td>happy</td>\n",
       "      <td>8989</td>\n",
       "    </tr>\n",
       "  </tbody>\n",
       "</table>\n",
       "</div>"
      ],
      "text/plain": [
       "  face_category  frequency\n",
       "1       disgust        547\n",
       "6      surprise       4002\n",
       "0         anger       4953\n",
       "2          fear       5121\n",
       "5           sad       6077\n",
       "4       neutral       6198\n",
       "3         happy       8989"
      ]
     },
     "execution_count": 5,
     "metadata": {},
     "output_type": "execute_result"
    }
   ],
   "source": [
    "category_frequencies"
   ]
  },
  {
   "cell_type": "markdown",
   "metadata": {},
   "source": [
    "# 📐 Rozmiary Obrazków\n",
    "\n",
    "Ponieważ sieć musi mieć określoną szerokość wejścia wspólną dla wszystkich danych uczących,testowych i klasyfikowanych, należy poznać rozmiary obrazków w zbiorze, aby dobrać odpowiednią wielkość wejścia modelu. Może to trochę potrwać (około 2 minuty)."
   ]
  },
  {
   "cell_type": "code",
   "execution_count": 6,
   "metadata": {},
   "outputs": [],
   "source": [
    "# all_image_sizes = []\n",
    "# for subdirectory in [\"train\",\"val\",\"test\"]:\n",
    "#     print(subdirectory)\n",
    "#     for category in face_categories:\n",
    "#         print(category)\n",
    "#         base_path = f\"faces/{subdirectory}/{category}\"\n",
    "#         files = os.listdir(base_path)\n",
    "#         for file in files:\n",
    "#             path = os.path.join(base_path,file)\n",
    "#             img = Image.open(path)\n",
    "#             all_image_sizes.append(img.size)\n",
    "# # Wygląda na to, że najmniejszy obrazek ma rozmiar 224 x 224 piksele\n",
    "# sorted(all_image_sizes, key=lambda x:x[0])[0], sorted(all_image_sizes, key=lambda x:x[1])[0]"
   ]
  },
  {
   "cell_type": "code",
   "execution_count": 7,
   "metadata": {},
   "outputs": [],
   "source": [
    "# all_image_sizes = []\n",
    "# for category in face_categories:\n",
    "#     print(category)\n",
    "#     base_path = f\"dataset/{category}\"\n",
    "#     files = os.listdir(base_path)\n",
    "#     for file in files:\n",
    "#         path = os.path.join(base_path,file)\n",
    "#         img = Image.open(path)\n",
    "#         all_image_sizes.append(img.size)\n",
    "# sorted(all_image_sizes, key=lambda x:x[0])[0], sorted(all_image_sizes, key=lambda x:x[1])[0]"
   ]
  },
  {
   "cell_type": "markdown",
   "metadata": {},
   "source": [
    "# Podział"
   ]
  },
  {
   "cell_type": "code",
   "execution_count": 8,
   "metadata": {},
   "outputs": [],
   "source": [
    "# sf.ratio(\"dataset\", output=\"dataset_splitted\", seed=1, ratio=(0.8,0.2), group_prefix=None)"
   ]
  },
  {
   "cell_type": "markdown",
   "metadata": {},
   "source": [
    "# Wagi"
   ]
  },
  {
   "cell_type": "code",
   "execution_count": 9,
   "metadata": {},
   "outputs": [
    {
     "ename": "FileNotFoundError",
     "evalue": "[WinError 3] The system cannot find the path specified: 'dataset_splitted/train/anger'",
     "output_type": "error",
     "traceback": [
      "\u001b[1;31m---------------------------------------------------------------------------\u001b[0m",
      "\u001b[1;31mFileNotFoundError\u001b[0m                         Traceback (most recent call last)",
      "\u001b[1;32mc:\\Users\\matlaczj\\Desktop\\pz1_kosz\\emotion_classifier.ipynb Cell 14'\u001b[0m in \u001b[0;36m<cell line: 1>\u001b[1;34m()\u001b[0m\n\u001b[1;32m----> <a href='vscode-notebook-cell:/c%3A/Users/matlaczj/Desktop/pz1_kosz/emotion_classifier.ipynb#ch0000013?line=0'>1</a>\u001b[0m category_frequencies \u001b[39m=\u001b[39m \u001b[39mdict\u001b[39m(\u001b[39mzip\u001b[39m(face_categories,[\u001b[39mlen\u001b[39m(os\u001b[39m.\u001b[39mlistdir(\u001b[39mf\u001b[39m\u001b[39m\"\u001b[39m\u001b[39mdataset_splitted/train/\u001b[39m\u001b[39m{\u001b[39;00mc\u001b[39m}\u001b[39;00m\u001b[39m\"\u001b[39m)) \u001b[39mfor\u001b[39;00m c \u001b[39min\u001b[39;00m face_categories]))\n\u001b[0;32m      <a href='vscode-notebook-cell:/c%3A/Users/matlaczj/Desktop/pz1_kosz/emotion_classifier.ipynb#ch0000013?line=2'>3</a>\u001b[0m \u001b[39mimport\u001b[39;00m \u001b[39mmath\u001b[39;00m\n\u001b[0;32m      <a href='vscode-notebook-cell:/c%3A/Users/matlaczj/Desktop/pz1_kosz/emotion_classifier.ipynb#ch0000013?line=3'>4</a>\u001b[0m \u001b[39mdef\u001b[39;00m \u001b[39mcreate_class_weight\u001b[39m(labels_dict,mu\u001b[39m=\u001b[39m\u001b[39m0.15\u001b[39m):\n",
      "\u001b[1;32mc:\\Users\\matlaczj\\Desktop\\pz1_kosz\\emotion_classifier.ipynb Cell 14'\u001b[0m in \u001b[0;36m<listcomp>\u001b[1;34m(.0)\u001b[0m\n\u001b[1;32m----> <a href='vscode-notebook-cell:/c%3A/Users/matlaczj/Desktop/pz1_kosz/emotion_classifier.ipynb#ch0000013?line=0'>1</a>\u001b[0m category_frequencies \u001b[39m=\u001b[39m \u001b[39mdict\u001b[39m(\u001b[39mzip\u001b[39m(face_categories,[\u001b[39mlen\u001b[39m(os\u001b[39m.\u001b[39;49mlistdir(\u001b[39mf\u001b[39;49m\u001b[39m\"\u001b[39;49m\u001b[39mdataset_splitted/train/\u001b[39;49m\u001b[39m{\u001b[39;49;00mc\u001b[39m}\u001b[39;49;00m\u001b[39m\"\u001b[39;49m)) \u001b[39mfor\u001b[39;00m c \u001b[39min\u001b[39;00m face_categories]))\n\u001b[0;32m      <a href='vscode-notebook-cell:/c%3A/Users/matlaczj/Desktop/pz1_kosz/emotion_classifier.ipynb#ch0000013?line=2'>3</a>\u001b[0m \u001b[39mimport\u001b[39;00m \u001b[39mmath\u001b[39;00m\n\u001b[0;32m      <a href='vscode-notebook-cell:/c%3A/Users/matlaczj/Desktop/pz1_kosz/emotion_classifier.ipynb#ch0000013?line=3'>4</a>\u001b[0m \u001b[39mdef\u001b[39;00m \u001b[39mcreate_class_weight\u001b[39m(labels_dict,mu\u001b[39m=\u001b[39m\u001b[39m0.15\u001b[39m):\n",
      "\u001b[1;31mFileNotFoundError\u001b[0m: [WinError 3] The system cannot find the path specified: 'dataset_splitted/train/anger'"
     ]
    }
   ],
   "source": [
    "category_frequencies = dict(zip(face_categories,[len(os.listdir(f\"dataset_splitted/train/{c}\")) for c in face_categories]))\n",
    "\n",
    "import math\n",
    "def create_class_weight(labels_dict,mu=0.15):\n",
    "    total = np.sum(list(labels_dict.values()))\n",
    "    keys = labels_dict.keys()\n",
    "    class_weight = dict()\n",
    "    for idx,key in enumerate(keys):\n",
    "        score = math.log(mu*total/float(labels_dict[key]))\n",
    "        class_weight[idx] = score if score > 1.0 else 1.0\n",
    "    return class_weight\n",
    "\n",
    "weights = create_class_weight(category_frequencies,mu=1)\n",
    "weights"
   ]
  },
  {
   "cell_type": "markdown",
   "metadata": {},
   "source": [
    "# 📙 Wczytanie i wstępne przetworzenie"
   ]
  },
  {
   "cell_type": "code",
   "execution_count": 7,
   "metadata": {},
   "outputs": [],
   "source": [
    "base_dir = \"C:\\\\Users\\\\matlaczj\\\\Documents\\\\Projekt_PZ1\\\\dataset_splitted\\\\\"\n",
    "train_dir,val_dir,test_dir,train_aug_dir,pred_dir = [pathlib.Path(f\"{base_dir}{t}\") for t in [\"train\",\"val\",\"test\",\"train_aug\",\"pred\"]]\n",
    "train_batch_size = 512\n",
    "val_test_batch_size = 512\n",
    "img_height = 48\n",
    "img_width = 48"
   ]
  },
  {
   "cell_type": "markdown",
   "metadata": {},
   "source": [
    "# Generowanie"
   ]
  },
  {
   "cell_type": "code",
   "execution_count": null,
   "metadata": {},
   "outputs": [],
   "source": [
    "# # wszystkie transformacje wykonujemy tylko na zbiorze treningowym\n",
    "# # dogeneruję dane w celu zmniejszenia wariancji modelu\n",
    "# train_datagen = ImageDataGenerator(\n",
    "#         #rescale=1./255,\n",
    "#         rotation_range = 30, \n",
    "#         width_shift_range = 0.15, \n",
    "#         height_shift_range = 0.15, \n",
    "#         shear_range = 0.2, \n",
    "#         zoom_range = 0.2, \n",
    "#         brightness_range = (0.2,0.8), \n",
    "#         horizontal_flip = True\n",
    "#     )\n",
    "\n",
    "# for i, one_category in enumerate(os.listdir('dataset_splitted/train')):\n",
    "#     os.mkdir(f\"dataset_splitted/train_aug/{one_category}\")\n",
    "#     train_generator = train_datagen.flow_from_directory(\n",
    "#             train_dir,\n",
    "#             #color_mode = \"grayscale\",\n",
    "#             target_size=(img_height, img_width),\n",
    "#             batch_size=train_batch_size,\n",
    "#             classes = [one_category],\n",
    "#             save_to_dir = os.path.join(\"dataset_splitted\",\"train_aug\",one_category),\n",
    "#             class_mode='sparse',\n",
    "#             shuffle=True)\n",
    "\n",
    "#     print(one_category)\n",
    "#     maxindx = len(train_generator)\n",
    "#     for idx,i in enumerate(range(len(train_generator))):\n",
    "#         print(f\"{idx}/{maxindx}\",end=\" \")\n",
    "#         train_generator.next()\n",
    "#     print(\"\")"
   ]
  },
  {
   "cell_type": "code",
   "execution_count": null,
   "metadata": {},
   "outputs": [],
   "source": [
    "train_ds = image_dataset_from_directory(\n",
    "    directory=train_dir,\n",
    "    labels='inferred',\n",
    "    label_mode='int',\n",
    "    color_mode=\"grayscale\",\n",
    "    batch_size=train_batch_size,\n",
    "    image_size=(img_height, img_width),\n",
    "    shuffle=True,\n",
    "    seed=1,\n",
    "    interpolation='bilinear',\n",
    "    smart_resize = True\n",
    ")\n",
    "\n",
    "# augmented_training_ds = image_dataset_from_directory(\n",
    "#     directory=train_aug_dir,\n",
    "#     labels='inferred',\n",
    "#     label_mode='int',\n",
    "#     #color_mode=\"grayscale\",\n",
    "#     batch_size=train_batch_size,\n",
    "#     image_size=(img_height, img_width),\n",
    "#     shuffle=True,\n",
    "#     seed=1,\n",
    "#     interpolation='bilinear',\n",
    "#     smart_resize = True\n",
    "# )\n",
    "\n",
    "# train_ds = train_ds.concatenate(augmented_training_ds)\n",
    "train_ds = train_ds.shuffle(seed=1,buffer_size=1000,reshuffle_each_iteration=True)\n",
    "\n",
    "val_ds = image_dataset_from_directory(\n",
    "    directory=val_dir,\n",
    "    labels='inferred',\n",
    "    label_mode='int',\n",
    "    color_mode=\"grayscale\",\n",
    "    batch_size=val_test_batch_size,\n",
    "    image_size=(img_height, img_width),\n",
    "    shuffle=True,\n",
    "    seed=1,\n",
    "    interpolation='bilinear',\n",
    "    smart_resize = True\n",
    ")\n",
    "\n",
    "# test_ds = image_dataset_from_directory(\n",
    "#     directory=test_dir,\n",
    "#     labels='inferred',\n",
    "#     label_mode='int',\n",
    "#     color_mode=\"grayscale\",\n",
    "#     batch_size=val_test_batch_size,\n",
    "#     image_size=(img_height, img_width),\n",
    "#     shuffle=True,\n",
    "#     seed=1,\n",
    "#     interpolation='bilinear',\n",
    "#     smart_resize = True\n",
    "# )"
   ]
  },
  {
   "cell_type": "markdown",
   "metadata": {},
   "source": [
    "# 📺 Oglądanie Obrazków"
   ]
  },
  {
   "cell_type": "code",
   "execution_count": null,
   "metadata": {},
   "outputs": [],
   "source": [
    "# rows = 3\n",
    "# cols = 3\n",
    "# if(rows*cols > train_batch_size):\n",
    "#     print(\"Too many pictures for current batch_size\")\n",
    "# else:\n",
    "#     plt.figure(figsize=(15, 15))\n",
    "#     for images, labels in train_ds.take(1):\n",
    "#         for i in range(rows*cols):\n",
    "#             ax = plt.subplot(rows, cols, i + 1)\n",
    "#             plt.imshow(images[i].numpy().astype(\"uint8\"))\n",
    "#             plt.title(face_categories[labels[i]])\n",
    "#             plt.axis(\"off\")"
   ]
  },
  {
   "cell_type": "markdown",
   "metadata": {},
   "source": [
    "# 😸 \"Buforowanie Wstępne\"\n",
    "zbiorów train/val, by kieszeniować na gpu."
   ]
  },
  {
   "cell_type": "code",
   "execution_count": null,
   "metadata": {},
   "outputs": [],
   "source": [
    "AUTOTUNE = tf.data.AUTOTUNE\n",
    "train_ds = train_ds.cache().prefetch(buffer_size=AUTOTUNE)\n",
    "val_ds = val_ds.cache().prefetch(buffer_size=AUTOTUNE)"
   ]
  },
  {
   "cell_type": "markdown",
   "metadata": {},
   "source": [
    "# 🔥 Topologia"
   ]
  },
  {
   "cell_type": "code",
   "execution_count": 8,
   "metadata": {},
   "outputs": [],
   "source": [
    "model = Sequential([\n",
    "    Conv2D(32, (3,3), input_shape=(48,48,1),padding=\"same\"),\n",
    "    LeakyReLU(),\n",
    "    Conv2D(32, (3,3), padding=\"same\"),\n",
    "    LeakyReLU(),\n",
    "    BatchNormalization(),\n",
    "    MaxPooling2D((2,2)),\n",
    "    Dropout(0.2),\n",
    "    \n",
    "    Conv2D(64,(3,3),padding=\"same\"),\n",
    "    LeakyReLU(),\n",
    "    Conv2D(64,(3,3), padding=\"same\"),\n",
    "    LeakyReLU(),\n",
    "    BatchNormalization(),\n",
    "    MaxPooling2D((2,2)),\n",
    "    Dropout(0.3),\n",
    "    \n",
    "    Conv2D(128,(3,3),padding=\"same\"),\n",
    "    LeakyReLU(),\n",
    "    Conv2D(128,(3,3), padding=\"same\"),\n",
    "    LeakyReLU(),\n",
    "    Conv2D(128,(3,3), padding=\"same\"),\n",
    "    LeakyReLU(),\n",
    "    BatchNormalization(),\n",
    "    MaxPooling2D((2,2)),\n",
    "    Dropout(0.4),\n",
    "    \n",
    "    Flatten(),\n",
    "    \n",
    "    Dense(128, activation='relu'),\n",
    "    Dropout(0.4),\n",
    "    \n",
    "    Dense(n_categories, activation=\"softmax\")\n",
    "])"
   ]
  },
  {
   "cell_type": "markdown",
   "metadata": {},
   "source": [
    "# Podsumowanie"
   ]
  },
  {
   "cell_type": "code",
   "execution_count": null,
   "metadata": {},
   "outputs": [],
   "source": [
    "model.summary()"
   ]
  },
  {
   "cell_type": "markdown",
   "metadata": {},
   "source": [
    "# Kompilacja"
   ]
  },
  {
   "cell_type": "code",
   "execution_count": null,
   "metadata": {},
   "outputs": [],
   "source": [
    "model.compile(\n",
    "    optimizer=Adam(learning_rate=1e-4),\n",
    "    loss=losses.SparseCategoricalCrossentropy(),#from_logits=True\n",
    "    metrics=['accuracy']\n",
    ")"
   ]
  },
  {
   "cell_type": "markdown",
   "metadata": {},
   "source": [
    "# Callbacks"
   ]
  },
  {
   "cell_type": "code",
   "execution_count": null,
   "metadata": {},
   "outputs": [],
   "source": [
    "class LearningRateReducerCb(tf.keras.callbacks.Callback):\n",
    "    def on_epoch_end(self,epoch,logs={}):\n",
    "        old_lr = self.model.optimizer.lr.read_value()\n",
    "        new_lr = 0.99 * old_lr\n",
    "        self.model.optimizer.lr.assign(new_lr)\n",
    "        old_lr,new_lr = round(float(old_lr),6),round(float(new_lr),6)\n",
    "        print(f\"Reducing LR {old_lr}->{new_lr}\")\n",
    "\n",
    "class ExtendedHistoryCb(tf.keras.callbacks.Callback):\n",
    "    def on_train_begin(self,logs={}):\n",
    "        # Zmienne na cały trening używane później do narysowania wykresów.\n",
    "        # Wyniki r,p dla każdej klasy\n",
    "        self.val_recalls = []\n",
    "        self.val_precisions = []\n",
    "        self.val_f1s = []\n",
    "\n",
    "        self.avg_val_recall = []\n",
    "        self.avg_val_precision = []\n",
    "        self.avg_val_f1 = []\n",
    "        # Specjalnie dla early stoppingu.\n",
    "        self.avg_val_f1_history = []\n",
    "\n",
    "    def on_epoch_end(self,batch,logs={}):\n",
    "        val_predictions = tf.math.argmax(model.predict(val_ds),axis=1).numpy()\n",
    "        val_labels = np.concatenate([y for x,y in val_ds],axis=0)\n",
    "\n",
    "        # Zwracają wyniki dla każdej z klas.\n",
    "        val_multiclass_recalls = recall_score(val_labels,val_predictions,average=None,zero_division=0)\n",
    "        val_multiclass_precisions = precision_score(val_labels,val_predictions,average=None,zero_division=0)\n",
    "        val_multiclass_f1s = f1_score(val_labels,val_predictions,average=None,zero_division=0)\n",
    "        # Zapisuję te wyniki do zmiennych by zapisać całą historię uczenia.\n",
    "        self.val_recalls.append(val_multiclass_recalls)\n",
    "        self.val_precisions.append(val_multiclass_precisions)\n",
    "        self.val_f1s.append(val_multiclass_f1s)\n",
    "\n",
    "        self.avg_val_recall = round(mean(val_multiclass_recalls),2)\n",
    "        self.avg_val_precision = round(mean(val_multiclass_precisions),2)\n",
    "        self.avg_val_f1 = round(mean(val_multiclass_f1s),2)\n",
    "\n",
    "        self.avg_val_f1_history.append(self.avg_val_f1)\n",
    "\n",
    "        tf.print(f\"val_recall = {self.avg_val_recall} , val_prec = {self.avg_val_precision} , val_f1 = {self.avg_val_f1}\")\n",
    "                \n",
    "class EarlyStopByF1(tf.keras.callbacks.Callback):\n",
    "    def __init__(self, patience = 0):\n",
    "        super(tf.keras.callbacks.Callback,self).__init__()\n",
    "        self.patience = patience\n",
    "    def on_epoch_end(self,epoch,logs={}):\n",
    "        f1_history = extended_history.avg_val_f1_history\n",
    "        f1 = extended_history.avg_val_f1\n",
    "        if(epoch >= self.patience):\n",
    "            if f1 < min(f1_history[-self.patience:]):\n",
    "                tf.print(f\"Early Stopping: Epoch={epoch},Patience={self.patience}\")\n",
    "                self.model.stop_training = True"
   ]
  },
  {
   "cell_type": "markdown",
   "metadata": {},
   "source": [
    "# 🚆 Trenowanie"
   ]
  },
  {
   "cell_type": "code",
   "execution_count": null,
   "metadata": {},
   "outputs": [],
   "source": [
    "extended_history = ExtendedHistoryCb()\n",
    "\n",
    "history = model.fit(\n",
    "    train_ds,\n",
    "    batch_size=train_batch_size, \n",
    "    epochs=100,\n",
    "    verbose=1,\n",
    "    callbacks=[\n",
    "        extended_history,\n",
    "        EarlyStopByF1(patience=3),\n",
    "        LearningRateReducerCb()\n",
    "        ], \n",
    "    validation_data=val_ds,\n",
    "    shuffle=True,\n",
    "    class_weight = weights\n",
    ")"
   ]
  },
  {
   "cell_type": "code",
   "execution_count": null,
   "metadata": {},
   "outputs": [],
   "source": [
    "model.save(\"model1\")"
   ]
  },
  {
   "cell_type": "code",
   "execution_count": null,
   "metadata": {},
   "outputs": [],
   "source": [
    "model.save_weights(\"model1_w\")"
   ]
  },
  {
   "cell_type": "code",
   "execution_count": 9,
   "metadata": {},
   "outputs": [
    {
     "data": {
      "text/plain": [
       "<tensorflow.python.training.tracking.util.CheckpointLoadStatus at 0x1ff99d39a20>"
      ]
     },
     "execution_count": 9,
     "metadata": {},
     "output_type": "execute_result"
    }
   ],
   "source": [
    "# model.load_weights(\"model1_w\")"
   ]
  },
  {
   "cell_type": "markdown",
   "metadata": {},
   "source": [
    "# 📊 Wizualizacja Trenowania"
   ]
  },
  {
   "cell_type": "code",
   "execution_count": null,
   "metadata": {},
   "outputs": [],
   "source": [
    "loss = history.history['loss']\n",
    "accuracy = history.history['accuracy']\n",
    "val_loss = history.history['val_loss']\n",
    "val_accuracy = history.history['val_accuracy']\n",
    "\n",
    "plt.figure(figsize=(15,5))\n",
    "plt.subplot(1,2,1)\n",
    "plt.xlabel(\"Epoch\")\n",
    "plt.ylabel(\"Loss\")\n",
    "plt.title('Training And Validation Loss')\n",
    "plt.plot(loss,label=\"Traning Loss\")\n",
    "plt.plot(val_loss,label=\"Validation Loss\")\n",
    "plt.legend()\n",
    "plt.subplot(1,2,2)\n",
    "plt.xlabel(\"Epoch\")\n",
    "plt.ylabel(\"Accuracy\")\n",
    "plt.title('Training And Validation Accuracy')\n",
    "plt.plot(accuracy,label=\"Training Accuracy\")\n",
    "plt.plot(val_accuracy,label=\"Validation Accuracy\")\n",
    "plt.legend()"
   ]
  },
  {
   "cell_type": "code",
   "execution_count": null,
   "metadata": {},
   "outputs": [],
   "source": [
    "val_recall = extended_history.val_recalls\n",
    "val_precision = extended_history.val_precisions\n",
    "\n",
    "plt.figure(figsize=(15,5))\n",
    "plt.subplot(1,2,1)\n",
    "plt.xlabel(\"Epoch\")\n",
    "plt.ylabel(\"Precision Per Category\")\n",
    "plt.title('Training And Validation Precisions')\n",
    "plt.plot(val_precision,label=\"Validation Precision\")\n",
    "plt.legend(range(n_categories))\n",
    "plt.subplot(1,2,2)\n",
    "plt.xlabel(\"Epoch\")\n",
    "plt.ylabel(\"Recall Per Category\")\n",
    "plt.title('Training And Validation Recalls')\n",
    "plt.plot(val_recall,label=\"Validation Recall\")\n",
    "plt.legend(range(n_categories))"
   ]
  },
  {
   "cell_type": "markdown",
   "metadata": {},
   "source": [
    "# ⊹ Confusion Matrix"
   ]
  },
  {
   "cell_type": "code",
   "execution_count": 10,
   "metadata": {},
   "outputs": [],
   "source": [
    "def plot_confusion_matrix1(ds,n_categories,model):\n",
    "    \"\"\"\n",
    "    Evaluates model's performance on a dataset. Prints confusion\n",
    "    and returns full report.\n",
    "    ds - Dataset object with data to predict labels for.\n",
    "    n_categories - number of possible label outcomes.\n",
    "    model - model used to predict labels.\n",
    "    \"\"\"\n",
    "    plt.figure(figsize=(10,8))\n",
    "    y_pred = tf.math.argmax(model.predict(ds),axis=1).numpy()\n",
    "    y_true = np.concatenate([y for x, y in ds],axis=0)\n",
    "    confusion = tf.math.confusion_matrix(y_true,y_pred,num_classes=n_categories)\n",
    "    report = classification_report(y_true,y_pred,zero_division=0)\n",
    "    sns.heatmap(confusion,annot=confusion)\n",
    "    return report"
   ]
  },
  {
   "cell_type": "code",
   "execution_count": 11,
   "metadata": {},
   "outputs": [
    {
     "data": {
      "text/plain": [
       "{'anger': 0,\n",
       " 'disgust': 1,\n",
       " 'fear': 2,\n",
       " 'happy': 3,\n",
       " 'neutral': 4,\n",
       " 'sad': 5,\n",
       " 'surprise': 6}"
      ]
     },
     "execution_count": 11,
     "metadata": {},
     "output_type": "execute_result"
    }
   ],
   "source": [
    "face_categories_mapping"
   ]
  },
  {
   "cell_type": "code",
   "execution_count": null,
   "metadata": {},
   "outputs": [],
   "source": [
    "print(plot_confusion_matrix1(train_ds,n_categories,model))"
   ]
  },
  {
   "cell_type": "code",
   "execution_count": null,
   "metadata": {},
   "outputs": [],
   "source": [
    "print(plot_confusion_matrix1(val_ds,n_categories,model))"
   ]
  },
  {
   "cell_type": "code",
   "execution_count": null,
   "metadata": {},
   "outputs": [],
   "source": [
    "# print(plot_confusion_matrix1(test_ds,n_categories,model))"
   ]
  },
  {
   "cell_type": "markdown",
   "metadata": {},
   "source": [
    "# **Kamerka**"
   ]
  },
  {
   "cell_type": "code",
   "execution_count": 67,
   "metadata": {},
   "outputs": [
    {
     "name": "stdout",
     "output_type": "stream",
     "text": [
      "Found 5 files belonging to 1 classes.\n"
     ]
    }
   ],
   "source": [
    "# tu umieść obrazki\n",
    "# C:\\Users\\matlaczj\\Documents\\Projekt_PZ1\\dataset_splitted\\pred\\pred\n",
    "\n",
    "pred_ds = image_dataset_from_directory(\n",
    "    directory=pred_dir,\n",
    "    labels='inferred',\n",
    "    label_mode='int',\n",
    "    color_mode=\"grayscale\",\n",
    "    batch_size=1,\n",
    "    image_size=(img_height, img_width),\n",
    "    shuffle=False,\n",
    "    seed=1,\n",
    "    interpolation='bilinear',\n",
    "    smart_resize = True\n",
    ")"
   ]
  },
  {
   "cell_type": "code",
   "execution_count": 65,
   "metadata": {},
   "outputs": [],
   "source": [
    "def plot__next_image_from_pred_ds():\n",
    "    plt.figure(figsize=(5, 5))\n",
    "    for images, _ in pred_ds.take(1):\n",
    "        plt.imshow(images[0].numpy().astype(\"uint8\"))\n",
    "        plt.axis(\"off\")"
   ]
  },
  {
   "cell_type": "code",
   "execution_count": 73,
   "metadata": {},
   "outputs": [
    {
     "data": {
      "text/plain": [
       "<TakeDataset element_spec=(TensorSpec(shape=(None, 48, 48, 1), dtype=tf.float32, name=None), TensorSpec(shape=(None,), dtype=tf.int32, name=None))>"
      ]
     },
     "execution_count": 73,
     "metadata": {},
     "output_type": "execute_result"
    }
   ],
   "source": [
    "pred_ds.take(1)"
   ]
  },
  {
   "cell_type": "code",
   "execution_count": 47,
   "metadata": {},
   "outputs": [
    {
     "data": {
      "text/plain": [
       "['anger', 'disgust', 'fear', 'happy', 'neutral', 'sad', 'surprise']"
      ]
     },
     "execution_count": 47,
     "metadata": {},
     "output_type": "execute_result"
    }
   ],
   "source": [
    "face_categories"
   ]
  },
  {
   "cell_type": "code",
   "execution_count": 84,
   "metadata": {},
   "outputs": [
    {
     "data": {
      "image/png": "[encoded data removed]",
      "text/plain": [
       "<Figure size 432x288 with 1 Axes>"
      ]
     },
     "metadata": {
      "needs_background": "light"
     },
     "output_type": "display_data"
    }
   ],
   "source": [
    "predictions = model.predict(pred_ds)\n",
    "predictions = dict(zip(face_categories,predictions.tolist()[3]))\n",
    "plt.bar(*zip(*predictions.items()));"
   ]
  },
  {
   "cell_type": "code",
   "execution_count": null,
   "metadata": {},
   "outputs": [],
   "source": []
  }
 ],
 "metadata": {
  "interpreter": {
   "hash": "d560dcdfd20c698553b721a5649b3492882c563ef16cf48416aff55369c53628"
  },
  "kernelspec": {
   "display_name": "ml",
   "language": "python",
   "name": "python3"
  },
  "language_info": {
   "codemirror_mode": {
    "name": "ipython",
    "version": 3
   },
   "file_extension": ".py",
   "mimetype": "text/x-python",
   "name": "python",
   "nbconvert_exporter": "python",
   "pygments_lexer": "ipython3",
   "version": "3.9.7"
  },
  "orig_nbformat": 4
 },
 "nbformat": 4,
 "nbformat_minor": 2
}
